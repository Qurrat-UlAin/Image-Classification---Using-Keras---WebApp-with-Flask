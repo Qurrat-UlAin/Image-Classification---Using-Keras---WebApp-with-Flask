{
  "nbformat": 4,
  "nbformat_minor": 0,
  "metadata": {
    "colab": {
      "provenance": []
    },
    "kernelspec": {
      "name": "python3",
      "display_name": "Python 3"
    },
    "language_info": {
      "name": "python"
    }
  },
  "cells": [
    {
      "cell_type": "code",
      "execution_count": 1,
      "metadata": {
        "colab": {
          "base_uri": "https://localhost:8080/"
        },
        "id": "gi5w5YGmYhQn",
        "outputId": "9448c489-68bd-4031-e11c-ee6ffd7c6248"
      },
      "outputs": [
        {
          "output_type": "stream",
          "name": "stdout",
          "text": [
            "--2024-05-09 13:11:41--  https://storage.googleapis.com/tensorflow-1-public/course2/week3/horse-or-human.zip\n",
            "Resolving storage.googleapis.com (storage.googleapis.com)... 142.250.141.207, 142.251.2.207, 2607:f8b0:4023:c06::cf, ...\n",
            "Connecting to storage.googleapis.com (storage.googleapis.com)|142.250.141.207|:443... connected.\n",
            "HTTP request sent, awaiting response... 200 OK\n",
            "Length: 149574867 (143M) [application/zip]\n",
            "Saving to: ‘horse-or-human.zip’\n",
            "\n",
            "horse-or-human.zip  100%[===================>] 142.65M   155MB/s    in 0.9s    \n",
            "\n",
            "2024-05-09 13:11:42 (155 MB/s) - ‘horse-or-human.zip’ saved [149574867/149574867]\n",
            "\n",
            "--2024-05-09 13:11:42--  https://storage.googleapis.com/tensorflow-1-public/course2/week3/validation-horse-or-human.zip\n",
            "Resolving storage.googleapis.com (storage.googleapis.com)... 142.250.141.207, 142.251.2.207, 2607:f8b0:4023:c06::cf, ...\n",
            "Connecting to storage.googleapis.com (storage.googleapis.com)|142.250.141.207|:443... connected.\n",
            "HTTP request sent, awaiting response... 200 OK\n",
            "Length: 11480187 (11M) [application/zip]\n",
            "Saving to: ‘validation-horse-or-human.zip’\n",
            "\n",
            "validation-horse-or 100%[===================>]  10.95M  --.-KB/s    in 0.1s    \n",
            "\n",
            "2024-05-09 13:11:42 (111 MB/s) - ‘validation-horse-or-human.zip’ saved [11480187/11480187]\n",
            "\n"
          ]
        }
      ],
      "source": [
        "#download training and validation datasets\n",
        "#training set: model will train on these\n",
        "#validation set: accuracy of the model will be checked\n",
        "!wget https://storage.googleapis.com/tensorflow-1-public/course2/week3/horse-or-human.zip\n",
        "!wget https://storage.googleapis.com/tensorflow-1-public/course2/week3/validation-horse-or-human.zip\n",
        "\n"
      ]
    },
    {
      "cell_type": "code",
      "source": [
        "\n",
        "import zipfile\n",
        "\n",
        "zip_file = zipfile.ZipFile('./horse-or-human.zip','r')\n",
        "zip_file.extractall('./horse-or-human')\n",
        "\n",
        "zip_file = zipfile.ZipFile('./validation-horse-or-human.zip','r')\n",
        "zip_file.extractall('./validation-horse-or-human')"
      ],
      "metadata": {
        "id": "61eRYgixaEpQ"
      },
      "execution_count": 2,
      "outputs": []
    },
    {
      "cell_type": "code",
      "source": [
        "#Before data is fed into the model, we need to augment it i.e rescale it to a standard\n",
        "from tensorflow.keras.preprocessing.image import ImageDataGenerator\n",
        "train_datagenerator = ImageDataGenerator(\n",
        "    rescale=1./255,   #each pixel has value from 0-255\n",
        "    rotation_range=40,\n",
        "    width_shift_range=0.2,\n",
        "    height_shift_range=0.2,\n",
        "    shear_range=0.2,\n",
        "    zoom_range=0.2,\n",
        "    horizontal_flip=True,\n",
        "    fill_mode='nearest'\n",
        "    )\n",
        "\n",
        "validation_datagenerator = ImageDataGenerator(rescale=1./255)"
      ],
      "metadata": {
        "id": "SdVADT7caLLZ"
      },
      "execution_count": 3,
      "outputs": []
    },
    {
      "cell_type": "code",
      "source": [
        "#Now Data Preprocessing:  appropriate labels\n",
        "TRAINING_DIR = '/content/horse-or-human'\n",
        "VALIDATION_DIR = '/content/validation-horse-or-human'\n",
        "\n",
        "\n",
        "\n",
        "train_generator = train_datagenerator.flow_from_directory(\n",
        "    TRAINING_DIR, # parent directory that contain sub directory for labels\n",
        "    target_size = (300,300), # make all data sizes uniform\n",
        "    batch_size = 128, # during each iteration of training, the model will process 128 images from the dataset\n",
        "    class_mode = 'binary' # we use binary mode because this is a two-class classification problem\n",
        ")\n",
        "\n",
        "validation_generator = validation_datagenerator.flow_from_directory(\n",
        "    VALIDATION_DIR,\n",
        "    target_size = (300,300),\n",
        "    batch_size = 32,\n",
        "    class_mode = 'binary'\n",
        ")"
      ],
      "metadata": {
        "colab": {
          "base_uri": "https://localhost:8080/"
        },
        "id": "vy844U5eatt-",
        "outputId": "1e93f370-3f04-4032-9175-bf701a61297c"
      },
      "execution_count": 4,
      "outputs": [
        {
          "output_type": "stream",
          "name": "stdout",
          "text": [
            "Found 1027 images belonging to 2 classes.\n",
            "Found 256 images belonging to 2 classes.\n"
          ]
        }
      ]
    },
    {
      "cell_type": "code",
      "source": [
        "# Convulation is applying a filter to extract meaningful features\n",
        "# Pooling is for reduction and downscaling scale and dimension\n",
        "\n",
        "#tf.keras.layers.Conv2D(64, (3,3), activation = 'relu', input_shape(300,300,3)) means\n",
        "# convolution layer with 64 filters, the filters will be 3x3 pixels in size, and the input image shape is 300x300 pixels in 3 color channels (RGB)\n",
        "\n",
        "#tf.keras.layers.MaxPooling2D(2,2)   means in a 2x2 grid, we pick the pixel with the highest value hence getting highest oriorty->feature extraction\n",
        "\n",
        "#activation of my layers will be 'relu' except the last one, it will be 'sigmoid' so the output is either 0 or 1\n",
        "\n",
        "import tensorflow as tf\n",
        "\n",
        "model = tf.keras.models.Sequential([\n",
        "\n",
        "    # first convolution and pooling layer\n",
        "    tf.keras.layers.Conv2D(64, (3,3), activation = 'relu', input_shape = (300,300,3)),\n",
        "    tf.keras.layers.MaxPooling2D(2,2),\n",
        "\n",
        "    # second convolution and pooling layer\n",
        "    tf.keras.layers.Conv2D(64, (3,3), activation = 'relu'),\n",
        "    tf.keras.layers.MaxPooling2D(2,2),\n",
        "\n",
        "    # third convolution and pooling layer\n",
        "    tf.keras.layers.Conv2D(128, (3,3), activation = 'relu'),\n",
        "    tf.keras.layers.MaxPooling2D(2,2),\n",
        "\n",
        "    # forth convolution and pooling layer\n",
        "    tf.keras.layers.Conv2D(256, (3,3), activation = 'relu'),\n",
        "    tf.keras.layers.MaxPooling2D(2,2),\n",
        "\n",
        "    # flatten the output layer to 1D\n",
        "    tf.keras.layers.Flatten(),\n",
        "\n",
        "    # add a dropout rate of 0.2\n",
        "    tf.keras.layers.Dropout(0.2),\n",
        "\n",
        "    # hidden layer with 128 neuron\n",
        "    tf.keras.layers.Dense(128, activation='relu'),\n",
        "\n",
        "    # hidden layer with 512 neuron\n",
        "    tf.keras.layers.Dense(512, activation='relu'),\n",
        "\n",
        "    tf.keras.layers.Dense(1, activation='sigmoid')\n",
        "])"
      ],
      "metadata": {
        "id": "1o46P8b4bNE8"
      },
      "execution_count": 5,
      "outputs": []
    },
    {
      "cell_type": "code",
      "source": [
        "#Let's gt our summary\n",
        "model.summary();\n"
      ],
      "metadata": {
        "colab": {
          "base_uri": "https://localhost:8080/"
        },
        "id": "KiawveVNdNeW",
        "outputId": "204d0655-4faa-41b7-ded8-56fe7ad3b509"
      },
      "execution_count": 7,
      "outputs": [
        {
          "output_type": "stream",
          "name": "stdout",
          "text": [
            "Model: \"sequential\"\n",
            "_________________________________________________________________\n",
            " Layer (type)                Output Shape              Param #   \n",
            "=================================================================\n",
            " conv2d (Conv2D)             (None, 298, 298, 64)      1792      \n",
            "                                                                 \n",
            " max_pooling2d (MaxPooling2  (None, 149, 149, 64)      0         \n",
            " D)                                                              \n",
            "                                                                 \n",
            " conv2d_1 (Conv2D)           (None, 147, 147, 64)      36928     \n",
            "                                                                 \n",
            " max_pooling2d_1 (MaxPoolin  (None, 73, 73, 64)        0         \n",
            " g2D)                                                            \n",
            "                                                                 \n",
            " conv2d_2 (Conv2D)           (None, 71, 71, 128)       73856     \n",
            "                                                                 \n",
            " max_pooling2d_2 (MaxPoolin  (None, 35, 35, 128)       0         \n",
            " g2D)                                                            \n",
            "                                                                 \n",
            " conv2d_3 (Conv2D)           (None, 33, 33, 256)       295168    \n",
            "                                                                 \n",
            " max_pooling2d_3 (MaxPoolin  (None, 16, 16, 256)       0         \n",
            " g2D)                                                            \n",
            "                                                                 \n",
            " flatten (Flatten)           (None, 65536)             0         \n",
            "                                                                 \n",
            " dropout (Dropout)           (None, 65536)             0         \n",
            "                                                                 \n",
            " dense (Dense)               (None, 128)               8388736   \n",
            "                                                                 \n",
            " dense_1 (Dense)             (None, 512)               66048     \n",
            "                                                                 \n",
            " dense_2 (Dense)             (None, 1)                 513       \n",
            "                                                                 \n",
            "=================================================================\n",
            "Total params: 8863041 (33.81 MB)\n",
            "Trainable params: 8863041 (33.81 MB)\n",
            "Non-trainable params: 0 (0.00 Byte)\n",
            "_________________________________________________________________\n"
          ]
        }
      ]
    },
    {
      "cell_type": "code",
      "source": [
        "#The model now exists, let's compile it:\n",
        "# the problem statemnt is 0/1 based a.k.a binary so loss will be binary crossentropy\n",
        "\n",
        "from tensorflow.keras.optimizers import RMSprop\n",
        "#RMSprop adjusts learning rate with each parameter\n",
        "model.compile(loss = 'binary_crossentropy',\n",
        "              optimizer = RMSprop(learning_rate = 0.0001),\n",
        "              metrics = ['accuracy'])\n",
        ""
      ],
      "metadata": {
        "id": "mlfCI1yMdXtd"
      },
      "execution_count": 8,
      "outputs": []
    },
    {
      "cell_type": "code",
      "source": [
        "#on our training set, we will now train the model.\n",
        "horsehuman_cnn = model.fit(\n",
        "      train_generator,\n",
        "      steps_per_epoch=8,\n",
        "      epochs=25,\n",
        "      verbose=2,\n",
        "      validation_data = validation_generator,\n",
        "      validation_steps=8)"
      ],
      "metadata": {
        "colab": {
          "base_uri": "https://localhost:8080/"
        },
        "id": "s2YNeyVbd3cn",
        "outputId": "d6437621-21b3-46e4-f26a-4fb2ee0c91ef"
      },
      "execution_count": null,
      "outputs": [
        {
          "output_type": "stream",
          "name": "stdout",
          "text": [
            "Epoch 1/25\n"
          ]
        }
      ]
    },
    {
      "cell_type": "code",
      "source": [
        "#Test\n",
        "import numpy as np\n",
        "from google.colab import files\n",
        "from tensorflow.keras.utils import load_img, img_to_array\n",
        "import matplotlib.image as mpimg\n",
        "\n",
        "uploaded = files.upload()\n",
        "\n",
        "for fn in uploaded.keys():\n",
        "\n",
        "  # predicting images\n",
        "  path = '/content/' + fn\n",
        "  img = load_img(path, target_size=(300, 300))\n",
        "  plt.imshow(img)\n",
        "  plt.axis('off')\n",
        "  plt.show()\n",
        "\n",
        "  x = img_to_array(img)\n",
        "  x /= 255\n",
        "  x = np.expand_dims(x, axis=0)\n",
        "\n",
        "  images = np.vstack([x])\n",
        "  classes = model.predict(images, batch_size=32)\n",
        "  print(classes[0])\n",
        "  if classes[0]>0.5:\n",
        "    print(fn + \" is a human\")\n",
        "  else:\n",
        "    print(fn + \" is a horse\")\n",
        "  print()\n",
        ""
      ],
      "metadata": {
        "id": "bhCQ_2ldeB0m"
      },
      "execution_count": null,
      "outputs": []
    },
    {
      "cell_type": "code",
      "source": [
        "\n",
        "model.save('my_model.h5')\n"
      ],
      "metadata": {
        "id": "Fbyb69DHewzk"
      },
      "execution_count": null,
      "outputs": []
    },
    {
      "cell_type": "code",
      "source": [],
      "metadata": {
        "id": "PzVekzvRg3R2"
      },
      "execution_count": null,
      "outputs": []
    },
    {
      "cell_type": "code",
      "source": [
        "from google.colab import files\n",
        "\n",
        "files.download('my_model.h5')\n"
      ],
      "metadata": {
        "id": "SYEx15uZg3Zo"
      },
      "execution_count": null,
      "outputs": []
    },
    {
      "cell_type": "code",
      "source": [
        "#from tensorflow.keras.models import load_model\n",
        "\n",
        "#model = load_model('my_model.h5')\n"
      ],
      "metadata": {
        "id": "FPovuO-ng4V2"
      },
      "execution_count": null,
      "outputs": []
    }
  ]
}